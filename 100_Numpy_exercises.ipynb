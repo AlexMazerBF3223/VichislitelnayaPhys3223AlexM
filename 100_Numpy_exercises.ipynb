{
 "cells": [
  {
   "cell_type": "markdown",
   "id": "ad1d1330",
   "metadata": {},
   "source": [
    "# 100 numpy exercises\n",
    "\n",
    "This is a collection of exercises that have been collected in the numpy mailing list, on stack overflow\n",
    "and in the numpy documentation. The goal of this collection is to offer a quick reference for both old\n",
    "and new users but also to provide a set of exercises for those who teach.\n",
    "\n",
    "\n",
    "If you find an error or think you've a better way to solve some of them, feel\n",
    "free to open an issue at <https://github.com/rougier/numpy-100>."
   ]
  },
  {
   "cell_type": "markdown",
   "id": "1d620162",
   "metadata": {},
   "source": [
    "File automatically generated. See the documentation to update questions/answers/hints programmatically."
   ]
  },
  {
   "cell_type": "markdown",
   "id": "8574d627",
   "metadata": {},
   "source": [
    "Run the `initialize.py` module, then for each question you can query the\n",
    "answer or an hint with `hint(n)` or `answer(n)` for `n` question number."
   ]
  },
  {
   "cell_type": "code",
   "execution_count": null,
   "id": "c6fe8a29",
   "metadata": {},
   "outputs": [],
   "source": [
    "%run initialise.py"
   ]
  },
  {
   "cell_type": "markdown",
   "id": "954c5d8f",
   "metadata": {},
   "source": [
    "#### 1. Import the numpy package under the name `np` (★☆☆)"
   ]
  },
  {
   "cell_type": "code",
   "execution_count": 1,
   "id": "4006c08e",
   "metadata": {},
   "outputs": [],
   "source": [
    "import numpy as np"
   ]
  },
  {
   "cell_type": "markdown",
   "id": "88e34f09",
   "metadata": {},
   "source": [
    "#### 2. Print the numpy version and the configuration (★☆☆)"
   ]
  },
  {
   "cell_type": "code",
   "execution_count": null,
   "id": "b1122a25",
   "metadata": {},
   "outputs": [],
   "source": []
  },
  {
   "cell_type": "markdown",
   "id": "37c21848",
   "metadata": {},
   "source": [
    "3. Create a null vector of size 10 (★☆☆)"
   ]
  },
  {
   "cell_type": "code",
   "execution_count": 2,
   "id": "e090a462",
   "metadata": {},
   "outputs": [
    {
     "name": "stdout",
     "output_type": "stream",
     "text": [
      "[0. 0. 0. 0. 0. 0. 0. 0. 0. 0.]\n"
     ]
    }
   ],
   "source": [
    "A = np.zeros(10)\n",
    "print(A)"
   ]
  },
  {
   "cell_type": "markdown",
   "id": "7c0e6add",
   "metadata": {},
   "source": [
    "#### 4. How to find the memory size of any array (★☆☆)"
   ]
  },
  {
   "cell_type": "code",
   "execution_count": 3,
   "id": "8c96715d",
   "metadata": {},
   "outputs": [
    {
     "name": "stdout",
     "output_type": "stream",
     "text": [
      "\n"
     ]
    }
   ],
   "source": [
    "A=np.zeros((10,10))\n",
    "print()"
   ]
  },
  {
   "cell_type": "markdown",
   "id": "4cf547db",
   "metadata": {},
   "source": [
    "#### 5. How to get the documentation of the numpy add function from the command line? (★☆☆)"
   ]
  },
  {
   "cell_type": "code",
   "execution_count": null,
   "id": "2a24a1e9",
   "metadata": {},
   "outputs": [],
   "source": []
  },
  {
   "cell_type": "markdown",
   "id": "bf6679c3",
   "metadata": {},
   "source": [
    "#### 6. Create a null vector of size 10 but the fifth value which is 1 (★☆☆)"
   ]
  },
  {
   "cell_type": "code",
   "execution_count": 4,
   "id": "f4cd59b6",
   "metadata": {},
   "outputs": [
    {
     "name": "stdout",
     "output_type": "stream",
     "text": [
      "[0. 0. 0. 0. 1. 0. 0. 0. 0. 0.]\n"
     ]
    }
   ],
   "source": [
    "A=np.zeros(10)\n",
    "A[4]=1\n",
    "print(A)"
   ]
  },
  {
   "cell_type": "markdown",
   "id": "022451fb",
   "metadata": {},
   "source": [
    "#### 7. Create a vector with values ranging from 10 to 49 (★☆☆)"
   ]
  },
  {
   "cell_type": "code",
   "execution_count": 5,
   "id": "22c2f0a8",
   "metadata": {},
   "outputs": [
    {
     "name": "stdout",
     "output_type": "stream",
     "text": [
      "[10 11 12 13 14 15 16 17 18 19 20 21 22 23 24 25 26 27 28 29 30 31 32 33\n",
      " 34 35 36 37 38 39 40 41 42 43 44 45 46 47 48 49]\n"
     ]
    }
   ],
   "source": [
    "A=np.arange(10,50)\n",
    "print(A)"
   ]
  },
  {
   "cell_type": "markdown",
   "id": "aca8f6ee",
   "metadata": {},
   "source": [
    "#### 8. Reverse a vector (first element becomes last) (★☆☆)"
   ]
  },
  {
   "cell_type": "code",
   "execution_count": 6,
   "id": "15f37616",
   "metadata": {},
   "outputs": [
    {
     "name": "stdout",
     "output_type": "stream",
     "text": [
      "[49 48 47 46 45 44 43 42 41 40 39 38 37 36 35 34 33 32 31 30 29 28 27 26\n",
      " 25 24 23 22 21 20 19 18 17 16 15 14 13 12 11 10  9  8  7  6  5  4  3  2\n",
      "  1  0]\n"
     ]
    }
   ],
   "source": [
    "A=np.arange(50)\n",
    "A=A[::-1]\n",
    "print(A)"
   ]
  },
  {
   "cell_type": "markdown",
   "id": "97bfddd4",
   "metadata": {},
   "source": [
    "#### 9. Create a 3x3 matrix with values ranging from 0 to 8 (★☆☆)"
   ]
  },
  {
   "cell_type": "code",
   "execution_count": 7,
   "id": "8b93d83c",
   "metadata": {},
   "outputs": [
    {
     "name": "stdout",
     "output_type": "stream",
     "text": [
      "[[0 1 2]\n",
      " [3 4 5]\n",
      " [6 7 8]]\n"
     ]
    }
   ],
   "source": [
    "A= np.arange(9).reshape(3,3)\n",
    "print(A)"
   ]
  },
  {
   "cell_type": "markdown",
   "id": "a073dad0",
   "metadata": {},
   "source": [
    "#### 10. Find indices of non-zero elements from [1,2,0,0,4,0] (★☆☆)"
   ]
  },
  {
   "cell_type": "code",
   "execution_count": 8,
   "id": "c21fb91c",
   "metadata": {},
   "outputs": [
    {
     "name": "stdout",
     "output_type": "stream",
     "text": [
      "(array([0, 1, 4], dtype=int64),)\n"
     ]
    }
   ],
   "source": [
    "Zero=np.nonzero([1,2,0,0,4,0])\n",
    "print(Zero)"
   ]
  },
  {
   "cell_type": "markdown",
   "id": "82b9a7a0",
   "metadata": {},
   "source": [
    "#### 11. Create a 3x3 identity matrix (★☆☆)"
   ]
  },
  {
   "cell_type": "code",
   "execution_count": 9,
   "id": "7ce1325a",
   "metadata": {},
   "outputs": [
    {
     "name": "stdout",
     "output_type": "stream",
     "text": [
      "[[1. 0. 0.]\n",
      " [0. 1. 0.]\n",
      " [0. 0. 1.]]\n"
     ]
    }
   ],
   "source": [
    "A=np.eye(3)\n",
    "print(A)"
   ]
  },
  {
   "cell_type": "markdown",
   "id": "0e6364d3",
   "metadata": {},
   "source": [
    "#### 12. Create a 3x3x3 array with random values (★☆☆)"
   ]
  },
  {
   "cell_type": "code",
   "execution_count": 10,
   "id": "8139c1c8",
   "metadata": {},
   "outputs": [
    {
     "name": "stdout",
     "output_type": "stream",
     "text": [
      "[[[0.97480153 0.07459148 0.03568394]\n",
      "  [0.17178022 0.75865908 0.90282204]\n",
      "  [0.50224627 0.53642993 0.90116868]]\n",
      "\n",
      " [[0.23105634 0.66975121 0.87696494]\n",
      "  [0.75138368 0.86220639 0.77923858]\n",
      "  [0.13386755 0.91391617 0.70806029]]\n",
      "\n",
      " [[0.17807323 0.04672888 0.3119504 ]\n",
      "  [0.61838917 0.83839853 0.86859357]\n",
      "  [0.88769374 0.02636066 0.08195098]]]\n"
     ]
    }
   ],
   "source": [
    "A=np.random.random((3,3,3))\n",
    "print(A)"
   ]
  },
  {
   "cell_type": "markdown",
   "id": "49ef36a6",
   "metadata": {},
   "source": [
    "#### 13. Create a 10x10 array with random values and find the minimum and maximum values (★☆☆)"
   ]
  },
  {
   "cell_type": "code",
   "execution_count": 11,
   "id": "5b4c73c7",
   "metadata": {},
   "outputs": [
    {
     "name": "stdout",
     "output_type": "stream",
     "text": [
      "0.029505382826164217 0.9964936009192412\n"
     ]
    }
   ],
   "source": [
    "A=np.random.random((10,10))\n",
    "Amin=A.min()\n",
    "Amax=A.max()\n",
    "print(Amin,Amax)"
   ]
  },
  {
   "cell_type": "markdown",
   "id": "625eb243",
   "metadata": {},
   "source": [
    "#### 14. Create a random vector of size 30 and find the mean value (★☆☆)"
   ]
  },
  {
   "cell_type": "code",
   "execution_count": 12,
   "id": "ba7b8300",
   "metadata": {},
   "outputs": [
    {
     "name": "stdout",
     "output_type": "stream",
     "text": [
      "0.4577274994989686\n"
     ]
    }
   ],
   "source": [
    "A=np.random.random(30)\n",
    "a=A.mean()\n",
    "print(a)"
   ]
  },
  {
   "cell_type": "markdown",
   "id": "19540b2f",
   "metadata": {},
   "source": [
    "#### 15. Create a 2d array with 1 on the border and 0 inside (★☆☆)"
   ]
  },
  {
   "cell_type": "code",
   "execution_count": null,
   "id": "19e78d2c",
   "metadata": {},
   "outputs": [],
   "source": []
  },
  {
   "cell_type": "markdown",
   "id": "3f0fe171",
   "metadata": {},
   "source": [
    "#### 16. How to add a border (filled with 0's) around an existing array? (★☆☆)"
   ]
  },
  {
   "cell_type": "code",
   "execution_count": null,
   "id": "662a99b4",
   "metadata": {},
   "outputs": [],
   "source": []
  },
  {
   "cell_type": "markdown",
   "id": "0464c4af",
   "metadata": {},
   "source": [
    "#### 17. What is the result of the following expression? (★☆☆)\n",
    "```python\n",
    "0 * np.nan\n",
    "np.nan == np.nan\n",
    "np.inf > np.nan\n",
    "np.nan - np.nan\n",
    "np.nan in set([np.nan])\n",
    "0.3 == 3 * 0.1\n",
    "```"
   ]
  },
  {
   "cell_type": "code",
   "execution_count": null,
   "id": "18926a29",
   "metadata": {},
   "outputs": [],
   "source": []
  },
  {
   "cell_type": "markdown",
   "id": "afb90e8b",
   "metadata": {},
   "source": [
    "#### 18. Create a 5x5 matrix with values 1,2,3,4 just below the diagonal (★☆☆)"
   ]
  },
  {
   "cell_type": "code",
   "execution_count": null,
   "id": "8a988102",
   "metadata": {},
   "outputs": [],
   "source": []
  },
  {
   "cell_type": "markdown",
   "id": "ca611f9e",
   "metadata": {},
   "source": [
    "#### 19. Create a 8x8 matrix and fill it with a checkerboard pattern (★☆☆)"
   ]
  },
  {
   "cell_type": "code",
   "execution_count": null,
   "id": "24049fc7",
   "metadata": {},
   "outputs": [],
   "source": []
  },
  {
   "cell_type": "markdown",
   "id": "9b77f7af",
   "metadata": {},
   "source": [
    "#### 20. Consider a (6,7,8) shape array, what is the index (x,y,z) of the 100th element? (★☆☆)"
   ]
  },
  {
   "cell_type": "code",
   "execution_count": null,
   "id": "402efd68",
   "metadata": {},
   "outputs": [],
   "source": []
  },
  {
   "cell_type": "markdown",
   "id": "07e399b8",
   "metadata": {},
   "source": [
    "#### 21. Create a checkerboard 8x8 matrix using the tile function (★☆☆)"
   ]
  },
  {
   "cell_type": "code",
   "execution_count": null,
   "id": "867964a9",
   "metadata": {},
   "outputs": [],
   "source": []
  },
  {
   "cell_type": "markdown",
   "id": "bc92d88a",
   "metadata": {},
   "source": [
    "#### 22. Normalize a 5x5 random matrix (★☆☆)"
   ]
  },
  {
   "cell_type": "code",
   "execution_count": null,
   "id": "a3709496",
   "metadata": {},
   "outputs": [],
   "source": []
  },
  {
   "cell_type": "markdown",
   "id": "9e2fd8ce",
   "metadata": {},
   "source": [
    "#### 23. Create a custom dtype that describes a color as four unsigned bytes (RGBA) (★☆☆)"
   ]
  },
  {
   "cell_type": "code",
   "execution_count": null,
   "id": "5881b2b5",
   "metadata": {},
   "outputs": [],
   "source": []
  },
  {
   "cell_type": "markdown",
   "id": "d6904ab9",
   "metadata": {},
   "source": [
    "#### 24. Multiply a 5x3 matrix by a 3x2 matrix (real matrix product) (★☆☆)"
   ]
  },
  {
   "cell_type": "code",
   "execution_count": null,
   "id": "cb3b6528",
   "metadata": {},
   "outputs": [],
   "source": []
  },
  {
   "cell_type": "markdown",
   "id": "c57116dd",
   "metadata": {},
   "source": [
    "#### 25. Given a 1D array, negate all elements which are between 3 and 8, in place. (★☆☆)"
   ]
  },
  {
   "cell_type": "code",
   "execution_count": null,
   "id": "4fbf1b1e",
   "metadata": {},
   "outputs": [],
   "source": []
  },
  {
   "cell_type": "markdown",
   "id": "52707d61",
   "metadata": {},
   "source": [
    "#### 26. What is the output of the following script? (★☆☆)\n",
    "```python\n",
    "# Author: Jake VanderPlas\n",
    "\n",
    "print(sum(range(5),-1))\n",
    "from numpy import *\n",
    "print(sum(range(5),-1))\n",
    "```"
   ]
  },
  {
   "cell_type": "code",
   "execution_count": null,
   "id": "18a238e6",
   "metadata": {},
   "outputs": [],
   "source": []
  },
  {
   "cell_type": "markdown",
   "id": "5ab377fd",
   "metadata": {},
   "source": [
    "#### 27. Consider an integer vector Z, which of these expressions are legal? (★☆☆)\n",
    "```python\n",
    "Z**Z\n",
    "2 << Z >> 2\n",
    "Z <- Z\n",
    "1j*Z\n",
    "Z/1/1\n",
    "Z<Z>Z\n",
    "```"
   ]
  },
  {
   "cell_type": "code",
   "execution_count": null,
   "id": "36cc66a9",
   "metadata": {},
   "outputs": [],
   "source": []
  },
  {
   "cell_type": "markdown",
   "id": "654f223f",
   "metadata": {},
   "source": [
    "#### 28. What are the result of the following expressions? (★☆☆)\n",
    "```python\n",
    "np.array(0) / np.array(0)\n",
    "np.array(0) // np.array(0)\n",
    "np.array([np.nan]).astype(int).astype(float)\n",
    "```"
   ]
  },
  {
   "cell_type": "code",
   "execution_count": null,
   "id": "6d9d3c21",
   "metadata": {},
   "outputs": [],
   "source": []
  },
  {
   "cell_type": "markdown",
   "id": "a7e00adf",
   "metadata": {},
   "source": [
    "#### 29. How to round away from zero a float array ? (★☆☆)"
   ]
  },
  {
   "cell_type": "code",
   "execution_count": null,
   "id": "6ee5777d",
   "metadata": {},
   "outputs": [],
   "source": []
  },
  {
   "cell_type": "markdown",
   "id": "56be1f05",
   "metadata": {},
   "source": [
    "#### 30. How to find common values between two arrays? (★☆☆)"
   ]
  },
  {
   "cell_type": "code",
   "execution_count": null,
   "id": "62eeedc0",
   "metadata": {},
   "outputs": [],
   "source": []
  },
  {
   "cell_type": "markdown",
   "id": "83567c5c",
   "metadata": {},
   "source": [
    "#### 31. How to ignore all numpy warnings (not recommended)? (★☆☆)"
   ]
  },
  {
   "cell_type": "code",
   "execution_count": null,
   "id": "fa02b423",
   "metadata": {},
   "outputs": [],
   "source": []
  },
  {
   "cell_type": "markdown",
   "id": "0a7449b6",
   "metadata": {},
   "source": [
    "#### 32. Is the following expressions true? (★☆☆)\n",
    "```python\n",
    "np.sqrt(-1) == np.emath.sqrt(-1)\n",
    "```"
   ]
  },
  {
   "cell_type": "code",
   "execution_count": null,
   "id": "69eb4456",
   "metadata": {},
   "outputs": [],
   "source": []
  },
  {
   "cell_type": "markdown",
   "id": "9d434219",
   "metadata": {},
   "source": [
    "#### 33. How to get the dates of yesterday, today and tomorrow? (★☆☆)"
   ]
  },
  {
   "cell_type": "code",
   "execution_count": null,
   "id": "0b192943",
   "metadata": {},
   "outputs": [],
   "source": []
  },
  {
   "cell_type": "markdown",
   "id": "b0e44339",
   "metadata": {},
   "source": [
    "#### 34. How to get all the dates corresponding to the month of July 2016? (★★☆)"
   ]
  },
  {
   "cell_type": "code",
   "execution_count": 13,
   "id": "8bf7daa6",
   "metadata": {},
   "outputs": [
    {
     "name": "stdout",
     "output_type": "stream",
     "text": [
      "['2016-07-01' '2016-07-02' '2016-07-03' '2016-07-04' '2016-07-05'\n",
      " '2016-07-06' '2016-07-07' '2016-07-08' '2016-07-09' '2016-07-10'\n",
      " '2016-07-11' '2016-07-12' '2016-07-13' '2016-07-14' '2016-07-15'\n",
      " '2016-07-16' '2016-07-17' '2016-07-18' '2016-07-19' '2016-07-20'\n",
      " '2016-07-21' '2016-07-22' '2016-07-23' '2016-07-24' '2016-07-25'\n",
      " '2016-07-26' '2016-07-27' '2016-07-28' '2016-07-29' '2016-07-30'\n",
      " '2016-07-31']\n"
     ]
    }
   ],
   "source": [
    "A= np.arange('2016-07','2016-08',dtype='datetime64[D]')\n",
    "print(A)"
   ]
  },
  {
   "cell_type": "markdown",
   "id": "f9b3c24a",
   "metadata": {},
   "source": [
    "#### 35. How to compute ((A+B)*(-A/2)) in place (without copy)? (★★☆)"
   ]
  },
  {
   "cell_type": "code",
   "execution_count": 14,
   "id": "40da18c9",
   "metadata": {},
   "outputs": [
    {
     "data": {
      "text/plain": [
       "array([-1.5, -1.5, -1.5])"
      ]
     },
     "execution_count": 14,
     "metadata": {},
     "output_type": "execute_result"
    }
   ],
   "source": [
    "A = np.ones(3)\n",
    "B = 2*np.ones(3)\n",
    "C = 3*np.ones(3)\n",
    "np.add(A,B,out=B)\n",
    "np.divide(A,2,out=A)\n",
    "np.negative(A,out=A)\n",
    "np.multiply(A,B,out=A)"
   ]
  },
  {
   "cell_type": "markdown",
   "id": "cbb64ee9",
   "metadata": {},
   "source": [
    "#### 36. Extract the integer part of a random array of positive numbers using 4 different methods (★★☆)"
   ]
  },
  {
   "cell_type": "code",
   "execution_count": 15,
   "id": "f83748bd",
   "metadata": {},
   "outputs": [
    {
     "name": "stdout",
     "output_type": "stream",
     "text": [
      "[2 3 2 3 0 8 8 0 8 2]\n",
      "[2. 3. 2. 3. 0. 8. 8. 0. 8. 2.]\n",
      "[2. 3. 2. 3. 0. 8. 8. 0. 8. 2.]\n",
      "[2. 3. 2. 3. 0. 8. 8. 0. 8. 2.]\n",
      "[2. 3. 2. 3. 0. 8. 8. 0. 8. 2.]\n"
     ]
    }
   ],
   "source": [
    "A = np.random.uniform(0,10,10)\n",
    "print (A.astype(int))\n",
    "print (np.floor(A))\n",
    "print (np.ceil(A)-1)\n",
    "print (A - A%1)\n",
    "print (np.trunc(A))"
   ]
  },
  {
   "cell_type": "markdown",
   "id": "8418e1e4",
   "metadata": {},
   "source": [
    "#### 37. Create a 5x5 matrix with row values ranging from 0 to 4 (★★☆)"
   ]
  },
  {
   "cell_type": "code",
   "execution_count": 16,
   "id": "08e726e4",
   "metadata": {},
   "outputs": [
    {
     "name": "stdout",
     "output_type": "stream",
     "text": [
      "[[0. 1. 2. 3. 4.]\n",
      " [0. 1. 2. 3. 4.]\n",
      " [0. 1. 2. 3. 4.]\n",
      " [0. 1. 2. 3. 4.]\n",
      " [0. 1. 2. 3. 4.]]\n"
     ]
    }
   ],
   "source": [
    "A = np.zeros((5,5))\n",
    "A += np.arange(5)\n",
    "print(A)"
   ]
  },
  {
   "cell_type": "markdown",
   "id": "a8420e2c",
   "metadata": {},
   "source": [
    "#### 38. Consider a generator function that generates 10 integers and use it to build an array (★☆☆)"
   ]
  },
  {
   "cell_type": "code",
   "execution_count": 17,
   "id": "c58e77ad",
   "metadata": {},
   "outputs": [
    {
     "name": "stdout",
     "output_type": "stream",
     "text": [
      "[0. 1. 2. 3. 4. 5. 6. 7. 8. 9.]\n"
     ]
    }
   ],
   "source": [
    "def generate():\n",
    "    for a in range(10):\n",
    "        yield a\n",
    "A = np.fromiter(generate(),dtype=float,count=-1)\n",
    "print(A)"
   ]
  },
  {
   "cell_type": "markdown",
   "id": "deab3e77",
   "metadata": {},
   "source": [
    "#### 39. Create a vector of size 10 with values ranging from 0 to 1, both excluded (★★☆)"
   ]
  },
  {
   "cell_type": "code",
   "execution_count": 18,
   "id": "2c5fafc8",
   "metadata": {},
   "outputs": [
    {
     "name": "stdout",
     "output_type": "stream",
     "text": [
      "[0.09090909 0.18181818 0.27272727 0.36363636 0.45454545 0.54545455\n",
      " 0.63636364 0.72727273 0.81818182 0.90909091]\n"
     ]
    }
   ],
   "source": [
    "A = np.linspace(0,1,11,endpoint=False)[1:]\n",
    "print(A)"
   ]
  },
  {
   "cell_type": "markdown",
   "id": "5bb5de9c",
   "metadata": {},
   "source": [
    "#### 40. Create a random vector of size 10 and sort it (★★☆)"
   ]
  },
  {
   "cell_type": "code",
   "execution_count": 19,
   "id": "b9916965",
   "metadata": {},
   "outputs": [
    {
     "name": "stdout",
     "output_type": "stream",
     "text": [
      "[0.33139943 0.37440798 0.62903879 0.66130499 0.67686014 0.86998739\n",
      " 0.90371574 0.92147716 0.93202723 0.93725674]\n"
     ]
    }
   ],
   "source": [
    "A = np.random.random(10)\n",
    "A.sort()\n",
    "print(A)"
   ]
  },
  {
   "cell_type": "markdown",
   "id": "ebc8ad64",
   "metadata": {},
   "source": [
    "#### 41. How to sum a small array faster than np.sum? (★★☆)"
   ]
  },
  {
   "cell_type": "code",
   "execution_count": 20,
   "id": "e7ac9923",
   "metadata": {},
   "outputs": [
    {
     "data": {
      "text/plain": [
       "45"
      ]
     },
     "execution_count": 20,
     "metadata": {},
     "output_type": "execute_result"
    }
   ],
   "source": [
    "A = np.arange(10)\n",
    "np.add.reduce(A)"
   ]
  },
  {
   "cell_type": "markdown",
   "id": "4abfb753",
   "metadata": {},
   "source": [
    "#### 42. Consider two random array A and B, check if they are equal (★★☆)"
   ]
  },
  {
   "cell_type": "code",
   "execution_count": 21,
   "id": "d265b5f6",
   "metadata": {},
   "outputs": [
    {
     "name": "stdout",
     "output_type": "stream",
     "text": [
      "False\n",
      "False\n"
     ]
    }
   ],
   "source": [
    "X = np.random.randint(0,3,6)\n",
    "Y = np.random.randint(0,3,6)\n",
    "Z = np.allclose(X,Y)\n",
    "print(Z)\n",
    "Z = np.array_equal(X,Y)\n",
    "print(Z)"
   ]
  },
  {
   "cell_type": "markdown",
   "id": "c8fad2be",
   "metadata": {},
   "source": [
    "#### 43. Make an array immutable (read-only) (★★☆)"
   ]
  },
  {
   "cell_type": "code",
   "execution_count": 103,
   "id": "cadce095",
   "metadata": {},
   "outputs": [
    {
     "name": "stdout",
     "output_type": "stream",
     "text": [
      "[1 1 1 1 1]\n",
      "A[1] = 0\n"
     ]
    }
   ],
   "source": [
    "A = np.ones(5, dtype=int)\n",
    "A.flags.writeable=False\n",
    "print(A)\n",
    "try:\n",
    "    A[1] = 0   \n",
    "except Exception as e:\n",
    "    print('A[1] = 0')"
   ]
  },
  {
   "cell_type": "markdown",
   "id": "91b25fb1",
   "metadata": {},
   "source": [
    "#### 44. Consider a random 10x2 matrix representing cartesian coordinates, convert them to polar coordinates (★★☆)"
   ]
  },
  {
   "cell_type": "code",
   "execution_count": 23,
   "id": "3f5fb344",
   "metadata": {},
   "outputs": [
    {
     "name": "stdout",
     "output_type": "stream",
     "text": [
      "[0.5860135  1.21789881 0.92481133 0.38946186 0.56742247 0.78684849\n",
      " 1.02161993 0.88083618 0.15429168 1.04184845]\n",
      "[1.36302794 0.76673427 0.94327264 0.04010724 0.83006243 0.78415669\n",
      " 1.05802421 0.09705735 1.15524482 1.06996453]\n"
     ]
    }
   ],
   "source": [
    "A = np.random.random((10,2))\n",
    "X,Y = A[:,0], A[:,1]\n",
    "F = np.sqrt(X**2+Y**2)\n",
    "Z = np.arctan2(Y,X)\n",
    "print(F)\n",
    "print(Z)"
   ]
  },
  {
   "cell_type": "markdown",
   "id": "7e4116bc",
   "metadata": {},
   "source": [
    "#### 45. Create random vector of size 10 and replace the maximum value by 0 (★★☆)"
   ]
  },
  {
   "cell_type": "code",
   "execution_count": 24,
   "id": "b4e895f6",
   "metadata": {},
   "outputs": [
    {
     "name": "stdout",
     "output_type": "stream",
     "text": [
      "[0.54392334 0.38237815 0.         0.08456443 0.56480419 0.7524766\n",
      " 0.1143713  0.59259842 0.2312011  0.33658865]\n"
     ]
    }
   ],
   "source": [
    "A = np.random.random(10)\n",
    "A[A.argmax()]=0\n",
    "print(A)"
   ]
  },
  {
   "cell_type": "markdown",
   "id": "f5b68c55",
   "metadata": {},
   "source": [
    "#### 46. Create a structured array with `x` and `y` coordinates covering the [0,1]x[0,1] area (★★☆)"
   ]
  },
  {
   "cell_type": "code",
   "execution_count": 25,
   "id": "32fd3691",
   "metadata": {},
   "outputs": [
    {
     "name": "stdout",
     "output_type": "stream",
     "text": [
      "[[(0.  , 0.  ) (0.25, 0.  ) (0.5 , 0.  ) (0.75, 0.  ) (1.  , 0.  )]\n",
      " [(0.  , 0.25) (0.25, 0.25) (0.5 , 0.25) (0.75, 0.25) (1.  , 0.25)]\n",
      " [(0.  , 0.5 ) (0.25, 0.5 ) (0.5 , 0.5 ) (0.75, 0.5 ) (1.  , 0.5 )]\n",
      " [(0.  , 0.75) (0.25, 0.75) (0.5 , 0.75) (0.75, 0.75) (1.  , 0.75)]\n",
      " [(0.  , 1.  ) (0.25, 1.  ) (0.5 , 1.  ) (0.75, 1.  ) (1.  , 1.  )]]\n"
     ]
    }
   ],
   "source": [
    "A = np.zeros((5,5), [('x',float),('y',float)])\n",
    "A['x'], A['y'] = np.meshgrid(np.linspace(0,1,5),\n",
    "                             np.linspace(0,1,5))\n",
    "print(A)"
   ]
  },
  {
   "cell_type": "markdown",
   "id": "378bc4e9",
   "metadata": {},
   "source": [
    "#### 47. Given two arrays, X and Y, construct the Cauchy matrix C (Cij =1/(xi - yj)) (★★☆)"
   ]
  },
  {
   "cell_type": "code",
   "execution_count": 26,
   "id": "43282e51",
   "metadata": {},
   "outputs": [
    {
     "name": "stdout",
     "output_type": "stream",
     "text": [
      "3638.1636371179666\n"
     ]
    }
   ],
   "source": [
    "X = np.arange(8)\n",
    "Y = X + 0.5\n",
    "R = 1.0/np.subtract.outer(X, Y)\n",
    "print(np.linalg.det(R))"
   ]
  },
  {
   "cell_type": "markdown",
   "id": "7f45d2f9",
   "metadata": {},
   "source": [
    "#### 48. Print the minimum and maximum representable value for each numpy scalar type (★★☆)"
   ]
  },
  {
   "cell_type": "code",
   "execution_count": 27,
   "id": "a7f37b9e",
   "metadata": {},
   "outputs": [
    {
     "name": "stdout",
     "output_type": "stream",
     "text": [
      "127\n",
      "-128\n",
      "2147483647\n",
      "-2147483648\n",
      "9223372036854775807\n",
      "-9223372036854775808\n",
      "3.4028235e+38\n",
      "-3.4028235e+38\n",
      "1.1920929e-07\n",
      "1.7976931348623157e+308\n",
      "-1.7976931348623157e+308\n",
      "2.220446049250313e-16\n"
     ]
    }
   ],
   "source": [
    "for dtype in [np.int8, np.int32, np.int64]:\n",
    "   print(np.iinfo(dtype).max)\n",
    "   print(np.iinfo(dtype).min)\n",
    "for dtype in [np.float32, np.float64]:\n",
    "   print(np.finfo(dtype).max)\n",
    "   print(np.finfo(dtype).min)\n",
    "   print(np.finfo(dtype).eps)"
   ]
  },
  {
   "cell_type": "markdown",
   "id": "1d269f07",
   "metadata": {},
   "source": [
    "#### 49. How to print all the values of an array? (★★☆)"
   ]
  },
  {
   "cell_type": "code",
   "execution_count": 102,
   "id": "fde90b07",
   "metadata": {},
   "outputs": [
    {
     "name": "stdout",
     "output_type": "stream",
     "text": [
      "[[0. 0. 0. 0. 0. 0. 0. 0. 0. 0.]\n",
      " [0. 0. 0. 0. 0. 0. 0. 0. 0. 0.]\n",
      " [0. 0. 0. 0. 0. 0. 0. 0. 0. 0.]\n",
      " [0. 0. 0. 0. 0. 0. 0. 0. 0. 0.]\n",
      " [0. 0. 0. 0. 0. 0. 0. 0. 0. 0.]\n",
      " [0. 0. 0. 0. 0. 0. 0. 0. 0. 0.]\n",
      " [0. 0. 0. 0. 0. 0. 0. 0. 0. 0.]\n",
      " [0. 0. 0. 0. 0. 0. 0. 0. 0. 0.]\n",
      " [0. 0. 0. 0. 0. 0. 0. 0. 0. 0.]\n",
      " [0. 0. 0. 0. 0. 0. 0. 0. 0. 0.]]\n"
     ]
    }
   ],
   "source": [
    "np.set_printoptions(threshold=float(\"inf\"))\n",
    "A = np.zeros((10,10))\n",
    "print(A)"
   ]
  },
  {
   "cell_type": "markdown",
   "id": "ed655678",
   "metadata": {},
   "source": [
    "#### 50. How to find the closest value (to a given scalar) in a vector? (★★☆)"
   ]
  },
  {
   "cell_type": "code",
   "execution_count": 29,
   "id": "55e0812f",
   "metadata": {},
   "outputs": [
    {
     "name": "stdout",
     "output_type": "stream",
     "text": [
      "83\n"
     ]
    }
   ],
   "source": [
    "A = np.arange(100)\n",
    "V = np.random.uniform(0,100)\n",
    "Z = (np.abs(A-V)).argmin()\n",
    "print(A[Z])"
   ]
  },
  {
   "cell_type": "markdown",
   "id": "3f73f88f",
   "metadata": {},
   "source": [
    "#### 51. Create a structured array representing a position (x,y) and a color (r,g,b) (★★☆)"
   ]
  },
  {
   "cell_type": "code",
   "execution_count": 30,
   "id": "74b51105",
   "metadata": {},
   "outputs": [
    {
     "name": "stdout",
     "output_type": "stream",
     "text": [
      "[((0., 0.), (0., 0., 0.)) ((0., 0.), (0., 0., 0.))\n",
      " ((0., 0.), (0., 0., 0.)) ((0., 0.), (0., 0., 0.))\n",
      " ((0., 0.), (0., 0., 0.)) ((0., 0.), (0., 0., 0.))\n",
      " ((0., 0.), (0., 0., 0.)) ((0., 0.), (0., 0., 0.))\n",
      " ((0., 0.), (0., 0., 0.)) ((0., 0.), (0., 0., 0.))]\n"
     ]
    }
   ],
   "source": [
    "A = np.zeros(10, [ ('position', [ ('x', float),('y', float)]),('color',[ ('r', float),('g', float),('b', float)])])\n",
    "print(A)"
   ]
  },
  {
   "cell_type": "markdown",
   "id": "db83eee0",
   "metadata": {},
   "source": [
    "#### 52. Consider a random vector with shape (100,2) representing coordinates, find point by point distances (★★☆)"
   ]
  },
  {
   "cell_type": "code",
   "execution_count": 100,
   "id": "10884922",
   "metadata": {},
   "outputs": [
    {
     "name": "stdout",
     "output_type": "stream",
     "text": [
      "[[0.         0.4700164  0.16027805 0.69283037 0.32468564 0.66399724\n",
      "  0.51703151 0.55944483 0.4200557  0.25077089]\n",
      " [0.4700164  0.         0.59044856 0.88159376 0.52174415 0.88011369\n",
      "  0.91624938 1.01871684 0.38268286 0.23947665]\n",
      " [0.16027805 0.59044856 0.         0.57078099 0.46795208 0.77108984\n",
      "  0.35722694 0.50998632 0.42845128 0.39661053]\n",
      " [0.69283037 0.88159376 0.57078099 0.         1.01710651 1.34169063\n",
      "  0.44155059 0.96248404 0.5034296  0.82332891]\n",
      " [0.32468564 0.52174415 0.46795208 1.01710651 0.         0.3778445\n",
      "  0.8025768  0.61463507 0.67706389 0.30990924]\n",
      " [0.66399724 0.88011369 0.77108984 1.34169063 0.3778445  0.\n",
      "  1.04175461 0.64503423 1.05120418 0.68599485]\n",
      " [0.51703151 0.91624938 0.35722694 0.44155059 0.8025768  1.04175461\n",
      "  0.         0.54233728 0.64145584 0.7483568 ]\n",
      " [0.55944483 1.01871684 0.50998632 0.96248404 0.61463507 0.64503423\n",
      "  0.54233728 0.         0.93779905 0.78218276]\n",
      " [0.4200557  0.38268286 0.42845128 0.5034296  0.67706389 1.05120418\n",
      "  0.64145584 0.93779905 0.         0.39487328]\n",
      " [0.25077089 0.23947665 0.39661053 0.82332891 0.30990924 0.68599485\n",
      "  0.7483568  0.78218276 0.39487328 0.        ]]\n"
     ]
    }
   ],
   "source": [
    "A = np.random.random((10,2))\n",
    "X,Y = np.atleast_2d(A[:,0], A[:,1])\n",
    "Z = np.sqrt( (X-X.T)**2 + (Y-Y.T)**2)\n",
    "print(Z)"
   ]
  },
  {
   "cell_type": "markdown",
   "id": "b90e0bb2",
   "metadata": {},
   "source": [
    "#### 53. How to convert a float (32 bits) array into an integer (32 bits) in place?"
   ]
  },
  {
   "cell_type": "code",
   "execution_count": 99,
   "id": "db97ea05",
   "metadata": {},
   "outputs": [
    {
     "name": "stdout",
     "output_type": "stream",
     "text": [
      "[0 1 2 3 4 5 6 7 8 9]\n"
     ]
    }
   ],
   "source": [
    "A = np.arange(10, dtype=np.float32)\n",
    "A = A.astype(np.int32, copy=False)\n",
    "print(A)"
   ]
  },
  {
   "cell_type": "markdown",
   "id": "0d1b021c",
   "metadata": {},
   "source": [
    "#### 54. How to read the following file? (★★☆)\n",
    "```\n",
    "1, 2, 3, 4, 5\n",
    "6,  ,  , 7, 8\n",
    " ,  , 9,10,11\n",
    "```"
   ]
  },
  {
   "cell_type": "code",
   "execution_count": 98,
   "id": "9551928e",
   "metadata": {},
   "outputs": [
    {
     "name": "stdout",
     "output_type": "stream",
     "text": [
      "[[  1   2   3   4   5]\n",
      " [  6 100 100   7   8]\n",
      " [100 100   9  10  11]]\n"
     ]
    }
   ],
   "source": [
    "from io import StringIO\n",
    "s = StringIO('''1, 2, 3, 4, 5\n",
    "\n",
    "                6,  ,  A, 7, 8\n",
    "\n",
    "                 ,  , 9,10,11\n",
    "''') \n",
    "Z = np.genfromtxt(s, filling_values= 100, delimiter=\",\", comments=\"#\", dtype=np.int8)\n",
    "print(Z)"
   ]
  },
  {
   "cell_type": "markdown",
   "id": "56928772",
   "metadata": {},
   "source": [
    "#### 55. What is the equivalent of enumerate for numpy arrays? (★★☆)"
   ]
  },
  {
   "cell_type": "code",
   "execution_count": 34,
   "id": "327d9b88",
   "metadata": {},
   "outputs": [
    {
     "name": "stdout",
     "output_type": "stream",
     "text": [
      "(0, 0) 0\n",
      "(0, 1) 1\n",
      "(0, 2) 2\n",
      "(1, 0) 3\n",
      "(1, 1) 4\n",
      "(1, 2) 5\n",
      "(2, 0) 6\n",
      "(2, 1) 7\n",
      "(2, 2) 8\n",
      "(0, 0) 0\n",
      "(0, 1) 1\n",
      "(0, 2) 2\n",
      "(1, 0) 3\n",
      "(1, 1) 4\n",
      "(1, 2) 5\n",
      "(2, 0) 6\n",
      "(2, 1) 7\n",
      "(2, 2) 8\n"
     ]
    }
   ],
   "source": [
    "Z = np.arange(9).reshape(3,3)\n",
    "for index, value in np.ndenumerate(Z):\n",
    "    print(index, value)\n",
    "for index in np.ndindex(Z.shape):\n",
    "    print(index, Z[index])"
   ]
  },
  {
   "cell_type": "markdown",
   "id": "257e0bac",
   "metadata": {},
   "source": [
    "#### 56. Generate a generic 2D Gaussian-like array (★★☆)"
   ]
  },
  {
   "cell_type": "code",
   "execution_count": 35,
   "id": "1325d664",
   "metadata": {},
   "outputs": [
    {
     "name": "stdout",
     "output_type": "stream",
     "text": [
      "[[0.36787944 0.44822088 0.51979489 0.57375342 0.60279818 0.60279818\n",
      "  0.57375342 0.51979489 0.44822088 0.36787944]\n",
      " [0.44822088 0.54610814 0.63331324 0.69905581 0.73444367 0.73444367\n",
      "  0.69905581 0.63331324 0.54610814 0.44822088]\n",
      " [0.51979489 0.63331324 0.73444367 0.81068432 0.85172308 0.85172308\n",
      "  0.81068432 0.73444367 0.63331324 0.51979489]\n",
      " [0.57375342 0.69905581 0.81068432 0.89483932 0.9401382  0.9401382\n",
      "  0.89483932 0.81068432 0.69905581 0.57375342]\n",
      " [0.60279818 0.73444367 0.85172308 0.9401382  0.98773022 0.98773022\n",
      "  0.9401382  0.85172308 0.73444367 0.60279818]\n",
      " [0.60279818 0.73444367 0.85172308 0.9401382  0.98773022 0.98773022\n",
      "  0.9401382  0.85172308 0.73444367 0.60279818]\n",
      " [0.57375342 0.69905581 0.81068432 0.89483932 0.9401382  0.9401382\n",
      "  0.89483932 0.81068432 0.69905581 0.57375342]\n",
      " [0.51979489 0.63331324 0.73444367 0.81068432 0.85172308 0.85172308\n",
      "  0.81068432 0.73444367 0.63331324 0.51979489]\n",
      " [0.44822088 0.54610814 0.63331324 0.69905581 0.73444367 0.73444367\n",
      "  0.69905581 0.63331324 0.54610814 0.44822088]\n",
      " [0.36787944 0.44822088 0.51979489 0.57375342 0.60279818 0.60279818\n",
      "  0.57375342 0.51979489 0.44822088 0.36787944]]\n"
     ]
    }
   ],
   "source": [
    "X, Y = np.meshgrid(np.linspace(-1,1,10), np.linspace(-1,1,10))\n",
    "D = np.sqrt(X*X+Y*Y)\n",
    "sigma, mu = 1.0, 0.0\n",
    "G = np.exp(-( (D-mu)**2 / ( 2.0 * sigma**2 ) ) )\n",
    "print(G)"
   ]
  },
  {
   "cell_type": "markdown",
   "id": "441347ee",
   "metadata": {},
   "source": [
    "#### 57. How to randomly place p elements in a 2D array? (★★☆)"
   ]
  },
  {
   "cell_type": "code",
   "execution_count": 36,
   "id": "1e61fce5",
   "metadata": {},
   "outputs": [
    {
     "name": "stdout",
     "output_type": "stream",
     "text": [
      "[[0. 0. 0. 0. 0. 0. 0. 0. 0. 0.]\n",
      " [0. 0. 0. 0. 0. 0. 0. 0. 0. 0.]\n",
      " [0. 0. 0. 0. 0. 0. 0. 0. 0. 0.]\n",
      " [0. 0. 0. 1. 0. 0. 0. 0. 0. 0.]\n",
      " [0. 0. 0. 0. 0. 0. 0. 0. 0. 0.]\n",
      " [0. 0. 0. 1. 0. 0. 0. 0. 0. 0.]\n",
      " [0. 0. 0. 0. 0. 0. 0. 0. 0. 0.]\n",
      " [0. 0. 1. 0. 0. 0. 0. 0. 0. 0.]\n",
      " [0. 0. 0. 0. 0. 0. 0. 0. 0. 0.]\n",
      " [0. 0. 0. 0. 0. 0. 0. 0. 0. 0.]]\n"
     ]
    }
   ],
   "source": [
    "n = 10\n",
    "p = 3\n",
    "Z = np.zeros((n,n))\n",
    "np.put(Z, np.random.choice(range(n*n), p, replace=False),1)\n",
    "print(Z)"
   ]
  },
  {
   "cell_type": "markdown",
   "id": "8a76af52",
   "metadata": {},
   "source": [
    "#### 58. Subtract the mean of each row of a matrix (★★☆)"
   ]
  },
  {
   "cell_type": "code",
   "execution_count": 37,
   "id": "65cf18e9",
   "metadata": {},
   "outputs": [
    {
     "name": "stdout",
     "output_type": "stream",
     "text": [
      "[[ 0.05477038  0.26772007 -0.30201363 -0.08375815  0.13020191  0.26391687\n",
      "   0.27307757 -0.06907433 -0.4844466  -0.05039408]\n",
      " [-0.01585645 -0.09758211  0.44094704  0.13460797 -0.35509798  0.03946295\n",
      "  -0.26008685  0.08722852 -0.18225311  0.20863003]\n",
      " [-0.17813895  0.39886479 -0.47262168  0.23728692  0.10310723  0.26477321\n",
      "   0.21670171 -0.281958   -0.09566386 -0.19235137]\n",
      " [ 0.32210993  0.13315225 -0.19355473 -0.20846584 -0.10502265  0.15183525\n",
      "  -0.09559506  0.13582274  0.30019271 -0.44047461]\n",
      " [ 0.05276707  0.14195092 -0.20422287  0.26566111 -0.1678566  -0.37905774\n",
      "   0.31652015 -0.27349454  0.28847695 -0.04074445]]\n"
     ]
    }
   ],
   "source": [
    "X = np.random.rand(5, 10)\n",
    "Y = X - X.mean(axis=1, keepdims=True)\n",
    "Y = X - X.mean(axis=1).reshape(-1, 1)\n",
    "print(Y)"
   ]
  },
  {
   "cell_type": "markdown",
   "id": "d2dc8b5f",
   "metadata": {},
   "source": [
    "#### 59. How to sort an array by the nth column? (★★☆)"
   ]
  },
  {
   "cell_type": "code",
   "execution_count": 97,
   "id": "83b5eafe",
   "metadata": {},
   "outputs": [
    {
     "name": "stdout",
     "output_type": "stream",
     "text": [
      "[[8 8 5]\n",
      " [3 1 8]\n",
      " [4 1 8]]\n",
      "[[3 1 8]\n",
      " [4 1 8]\n",
      " [8 8 5]]\n"
     ]
    }
   ],
   "source": [
    "X = np.random.randint(0,10,(3,3))\n",
    "print(X)\n",
    "print(X[X[:,1].argsort()])"
   ]
  },
  {
   "cell_type": "markdown",
   "id": "4886f74e",
   "metadata": {},
   "source": [
    "#### 60. How to tell if a given 2D array has null columns? (★★☆)"
   ]
  },
  {
   "cell_type": "code",
   "execution_count": 96,
   "id": "7a066dd9",
   "metadata": {},
   "outputs": [
    {
     "name": "stdout",
     "output_type": "stream",
     "text": [
      "True\n"
     ]
    }
   ],
   "source": [
    "A = np.random.randint(0,2,(3,10))\n",
    "print((~A.any(axis=0)).any())"
   ]
  },
  {
   "cell_type": "markdown",
   "id": "1f5ad2a9",
   "metadata": {},
   "source": [
    "#### 61. Find the nearest value from a given value in an array (★★☆)"
   ]
  },
  {
   "cell_type": "code",
   "execution_count": 95,
   "id": "f53df167",
   "metadata": {},
   "outputs": [
    {
     "name": "stdout",
     "output_type": "stream",
     "text": [
      "0.6032863260605269\n"
     ]
    }
   ],
   "source": [
    "X = np.random.uniform(0,1,10)\n",
    "Y = 0.5\n",
    "Z = X.flat[np.abs(X - Y).argmin()]\n",
    "print(Z)"
   ]
  },
  {
   "cell_type": "markdown",
   "id": "aa48f9b2",
   "metadata": {},
   "source": [
    "#### 62. Considering two arrays with shape (1,3) and (3,1), how to compute their sum using an iterator? (★★☆)"
   ]
  },
  {
   "cell_type": "code",
   "execution_count": 92,
   "id": "68987301",
   "metadata": {},
   "outputs": [
    {
     "name": "stdout",
     "output_type": "stream",
     "text": [
      "[[0 1 2]\n",
      " [1 2 3]\n",
      " [2 3 4]]\n"
     ]
    }
   ],
   "source": [
    "A = np.arange(3).reshape(3,1)\n",
    "B = np.arange(3).reshape(1,3)\n",
    "C = np.nditer([A,B,None])\n",
    "for x,y,z in C: z[...] = x + y\n",
    "print(C.operands[2])"
   ]
  },
  {
   "cell_type": "markdown",
   "id": "0bed1516",
   "metadata": {},
   "source": [
    "#### 63. Create an array class that has a name attribute (★★☆)"
   ]
  },
  {
   "cell_type": "code",
   "execution_count": null,
   "id": "fa1d52fc",
   "metadata": {},
   "outputs": [],
   "source": [
    "\n"
   ]
  },
  {
   "cell_type": "markdown",
   "id": "463a40bb",
   "metadata": {},
   "source": [
    "#### 64. Consider a given vector, how to add 1 to each element indexed by a second vector (be careful with repeated indices)? (★★★)"
   ]
  },
  {
   "cell_type": "code",
   "execution_count": 91,
   "id": "cdb2cad0",
   "metadata": {},
   "outputs": [
    {
     "name": "stdout",
     "output_type": "stream",
     "text": [
      "[5. 8. 3. 2. 2. 1. 2. 3. 3. 1.]\n"
     ]
    }
   ],
   "source": [
    "X = np.ones(10)\n",
    "Y = np.random.randint(0,len(X),20)\n",
    "X += np.bincount(Y, minlength=len(X))\n",
    "print(X)"
   ]
  },
  {
   "cell_type": "markdown",
   "id": "2a2f8219",
   "metadata": {},
   "source": [
    "#### 65. How to accumulate elements of a vector (X) to an array (F) based on an index list (I)? (★★★)"
   ]
  },
  {
   "cell_type": "code",
   "execution_count": 44,
   "id": "9cc34a77",
   "metadata": {},
   "outputs": [
    {
     "name": "stdout",
     "output_type": "stream",
     "text": [
      "[0. 7. 0. 6. 5. 0. 0. 0. 0. 3.]\n"
     ]
    }
   ],
   "source": [
    "X = [1,2,3,4,5,6]\n",
    "Y = [1,3,9,3,4,1]\n",
    "Z = np.bincount(Y,X)\n",
    "print(Z)"
   ]
  },
  {
   "cell_type": "markdown",
   "id": "6a6a3c66",
   "metadata": {},
   "source": [
    "#### 66. Considering a (w,h,3) image of (dtype=ubyte), compute the number of unique colors (★★☆)"
   ]
  },
  {
   "cell_type": "code",
   "execution_count": 90,
   "id": "c88f5a5e",
   "metadata": {},
   "outputs": [
    {
     "name": "stdout",
     "output_type": "stream",
     "text": [
      "[0 1]\n"
     ]
    }
   ],
   "source": [
    "w,h = 16,16\n",
    "X = np.random.randint(0,2,(h,w,3)).astype(np.ubyte)\n",
    "Y = X[...,0]*256*256 + X[...,1]*256 +X[...,2]\n",
    "n = len(np.unique(Y))\n",
    "print(np.unique(X))"
   ]
  },
  {
   "cell_type": "markdown",
   "id": "4b030baa",
   "metadata": {},
   "source": [
    "#### 67. Considering a four dimensions array, how to get sum over the last two axis at once? (★★★)"
   ]
  },
  {
   "cell_type": "code",
   "execution_count": 46,
   "id": "cd2e7c9c",
   "metadata": {},
   "outputs": [
    {
     "name": "stdout",
     "output_type": "stream",
     "text": [
      "[[47 59 48 39]\n",
      " [35 51 55 61]\n",
      " [45 59 49 45]]\n",
      "[[47 59 48 39]\n",
      " [35 51 55 61]\n",
      " [45 59 49 45]]\n"
     ]
    }
   ],
   "source": [
    "A = np.random.randint(0,10,(3,4,3,4))\n",
    "sum = A.sum(axis=(-2,-1))\n",
    "print(sum)\n",
    "sum = A.reshape(A.shape[:-2] + (-1,)).sum(axis=-1)\n",
    "print(sum)"
   ]
  },
  {
   "cell_type": "markdown",
   "id": "1fa6053b",
   "metadata": {},
   "source": [
    "#### 68. Considering a one-dimensional vector D, how to compute means of subsets of D using a vector S of same size describing subset  indices? (★★★)"
   ]
  },
  {
   "cell_type": "code",
   "execution_count": 89,
   "id": "9b5a070d",
   "metadata": {},
   "outputs": [
    {
     "name": "stdout",
     "output_type": "stream",
     "text": [
      "[0.49929049 0.48947653 0.44813285 0.57276116 0.46629379 0.40638652\n",
      " 0.31576596 0.59707116 0.56483749 0.70478832]\n",
      "0    0.499290\n",
      "1    0.489477\n",
      "2    0.448133\n",
      "3    0.572761\n",
      "4    0.466294\n",
      "5    0.406387\n",
      "6    0.315766\n",
      "7    0.597071\n",
      "8    0.564837\n",
      "9    0.704788\n",
      "dtype: float64\n"
     ]
    }
   ],
   "source": [
    "A = np.random.uniform(0,1,100)\n",
    "B = np.random.randint(0,10,100)\n",
    "A_sums = np.bincount(B, weights=A)\n",
    "A_counts = np.bincount(B)\n",
    "A_means = A_sums / A_counts\n",
    "print(A_means)\n",
    "import pandas as pd\n",
    "print(pd.Series(A).groupby(B).mean())"
   ]
  },
  {
   "cell_type": "markdown",
   "id": "2e7b0395",
   "metadata": {},
   "source": [
    "#### 69. How to get the diagonal of a dot product? (★★★)"
   ]
  },
  {
   "cell_type": "code",
   "execution_count": 48,
   "id": "ae437196",
   "metadata": {},
   "outputs": [
    {
     "data": {
      "text/plain": [
       "array([1.21813543, 1.21967818, 0.73097475, 1.21414552, 1.26430167])"
      ]
     },
     "execution_count": 48,
     "metadata": {},
     "output_type": "execute_result"
    }
   ],
   "source": [
    "A = np.random.uniform(0,1,(5,5))\n",
    "B = np.random.uniform(0,1,(5,5))\n",
    "np.sum(A * B.T, axis=1)"
   ]
  },
  {
   "cell_type": "markdown",
   "id": "2bf2f8e4",
   "metadata": {},
   "source": [
    "#### 70. Consider the vector [1, 2, 3, 4, 5], how to build a new vector with 3 consecutive zeros interleaved between each value? (★★★)"
   ]
  },
  {
   "cell_type": "code",
   "execution_count": 49,
   "id": "8a427342",
   "metadata": {},
   "outputs": [
    {
     "name": "stdout",
     "output_type": "stream",
     "text": [
      "[1. 0. 0. 0. 2. 0. 0. 0. 3. 0. 0. 0. 4. 0. 0. 0. 5.]\n"
     ]
    }
   ],
   "source": [
    "A = np.array([1,2,3,4,5])\n",
    "nz = 3\n",
    "A0 = np.zeros(len(A) + (len(Z)-1)*(nz))\n",
    "A0[::nz+1] = A\n",
    "print(A0)"
   ]
  },
  {
   "cell_type": "markdown",
   "id": "fff802ea",
   "metadata": {},
   "source": [
    "#### 71. Consider an array of dimension (5,5,3), how to mulitply it by an array with dimensions (5,5)? (★★★)"
   ]
  },
  {
   "cell_type": "code",
   "execution_count": 50,
   "id": "e83ab7b5",
   "metadata": {},
   "outputs": [
    {
     "name": "stdout",
     "output_type": "stream",
     "text": [
      "[[[2. 2. 2.]\n",
      "  [2. 2. 2.]\n",
      "  [2. 2. 2.]\n",
      "  [2. 2. 2.]\n",
      "  [2. 2. 2.]]\n",
      "\n",
      " [[2. 2. 2.]\n",
      "  [2. 2. 2.]\n",
      "  [2. 2. 2.]\n",
      "  [2. 2. 2.]\n",
      "  [2. 2. 2.]]\n",
      "\n",
      " [[2. 2. 2.]\n",
      "  [2. 2. 2.]\n",
      "  [2. 2. 2.]\n",
      "  [2. 2. 2.]\n",
      "  [2. 2. 2.]]\n",
      "\n",
      " [[2. 2. 2.]\n",
      "  [2. 2. 2.]\n",
      "  [2. 2. 2.]\n",
      "  [2. 2. 2.]\n",
      "  [2. 2. 2.]]\n",
      "\n",
      " [[2. 2. 2.]\n",
      "  [2. 2. 2.]\n",
      "  [2. 2. 2.]\n",
      "  [2. 2. 2.]\n",
      "  [2. 2. 2.]]]\n"
     ]
    }
   ],
   "source": [
    "A = np.ones((5,5,3))\n",
    "B = 2*np.ones((5,5))\n",
    "print(A * B[:,:,None])"
   ]
  },
  {
   "cell_type": "markdown",
   "id": "a0865c04",
   "metadata": {},
   "source": [
    "#### 72. How to swap two rows of an array? (★★★)"
   ]
  },
  {
   "cell_type": "code",
   "execution_count": 51,
   "id": "bb510428",
   "metadata": {},
   "outputs": [
    {
     "name": "stdout",
     "output_type": "stream",
     "text": [
      "[[ 5  6  7  8  9]\n",
      " [ 0  1  2  3  4]\n",
      " [10 11 12 13 14]\n",
      " [15 16 17 18 19]\n",
      " [20 21 22 23 24]]\n"
     ]
    }
   ],
   "source": [
    "A = np.arange(25).reshape(5,5)\n",
    "A[[0,1]] = A[[1,0]]\n",
    "print(A)"
   ]
  },
  {
   "cell_type": "markdown",
   "id": "52beda8d",
   "metadata": {},
   "source": [
    "#### 73. Consider a set of 10 triplets describing 10 triangles (with shared vertices), find the set of unique line segments composing all the  triangles (★★★)"
   ]
  },
  {
   "cell_type": "code",
   "execution_count": 88,
   "id": "5b9895de",
   "metadata": {},
   "outputs": [
    {
     "name": "stdout",
     "output_type": "stream",
     "text": [
      "[( 3,  4) ( 3, 43) ( 4, 43) ( 5, 28) ( 5, 37) ( 6, 83) ( 6, 99) (14, 42)\n",
      " (14, 73) (21, 56) (21, 67) (25, 57) (25, 64) (28, 37) (29, 58) (29, 79)\n",
      " (35, 60) (35, 68) (42, 73) (56, 67) (57, 64) (58, 79) (59, 70) (59, 93)\n",
      " (60, 68) (65, 88) (65, 99) (70, 93) (83, 99) (88, 99)]\n"
     ]
    }
   ],
   "source": [
    "Z = np.random.randint(0,100,(10,3))\n",
    "A = np.roll(Z.repeat(2,axis=1),-1,axis=1)\n",
    "A = A.reshape(len(A)*3,2)\n",
    "A = np.sort(A,axis=1)\n",
    "B = A.view( dtype=[('p0',A.dtype),('p1',A.dtype)] )\n",
    "B = np.unique(B)\n",
    "print(B)"
   ]
  },
  {
   "cell_type": "markdown",
   "id": "b1f8e571",
   "metadata": {},
   "source": [
    "#### 74. Given a sorted array C that corresponds to a bincount, how to produce an array A such that np.bincount(A) == C? (★★★)"
   ]
  },
  {
   "cell_type": "code",
   "execution_count": 53,
   "id": "ea6d42e9",
   "metadata": {},
   "outputs": [
    {
     "name": "stdout",
     "output_type": "stream",
     "text": [
      "[1 1 2 3 4 4 6]\n"
     ]
    }
   ],
   "source": [
    "C = np.bincount([1,1,2,3,4,4,6])\n",
    "A = np.repeat(np.arange(len(C)), C)\n",
    "print(A)"
   ]
  },
  {
   "cell_type": "markdown",
   "id": "db1ed658",
   "metadata": {},
   "source": [
    "#### 75. How to compute averages using a sliding window over an array? (★★★)"
   ]
  },
  {
   "cell_type": "code",
   "execution_count": 54,
   "id": "9dc6a98a",
   "metadata": {},
   "outputs": [
    {
     "name": "stdout",
     "output_type": "stream",
     "text": [
      "[ 1.  2.  3.  4.  5.  6.  7.  8.  9. 10. 11. 12. 13. 14. 15. 16. 17. 18.]\n"
     ]
    }
   ],
   "source": [
    "def moving_average(a, n=3) :\n",
    "    ret = np.cumsum(a, dtype=float)\n",
    "    ret[n:] = ret[n:] - ret[:-n]\n",
    "    return ret[n - 1:] / n\n",
    "Z = np.arange(20)\n",
    "print(moving_average(Z, n=3))"
   ]
  },
  {
   "cell_type": "markdown",
   "id": "1ca35bda",
   "metadata": {},
   "source": [
    "#### 76. Consider a one-dimensional array Z, build a two-dimensional array whose first row is (Z[0],Z[1],Z[2]) and each subsequent row is  shifted by 1 (last row should be (Z[-3],Z[-2],Z[-1]) (★★★)"
   ]
  },
  {
   "cell_type": "code",
   "execution_count": 55,
   "id": "900e8b0a",
   "metadata": {},
   "outputs": [
    {
     "name": "stdout",
     "output_type": "stream",
     "text": [
      "[[0 1 2]\n",
      " [1 2 3]\n",
      " [2 3 4]\n",
      " [3 4 5]\n",
      " [4 5 6]\n",
      " [5 6 7]\n",
      " [6 7 8]\n",
      " [7 8 9]]\n"
     ]
    }
   ],
   "source": [
    "from numpy.lib import stride_tricks\n",
    "def rolling(a, window):\n",
    "    shape = (a.size - window + 1, window)\n",
    "    strides = (a.itemsize, a.itemsize)\n",
    "    return stride_tricks.as_strided(a, shape=shape, strides=strides)\n",
    "Z = rolling(np.arange(10), 3)\n",
    "print(Z)"
   ]
  },
  {
   "cell_type": "markdown",
   "id": "18bd6fab",
   "metadata": {},
   "source": [
    "#### 77. How to negate a boolean, or to change the sign of a float inplace? (★★★)"
   ]
  },
  {
   "cell_type": "code",
   "execution_count": 56,
   "id": "554c5103",
   "metadata": {},
   "outputs": [
    {
     "data": {
      "text/plain": [
       "array([-0.8176553 ,  0.45667202,  0.38749702,  0.0590182 , -0.29719986,\n",
       "       -0.99695953, -0.27982372, -0.16020039, -0.81178888,  0.53806508,\n",
       "       -0.99973256, -0.9725168 ,  0.40972518,  0.83388078, -0.8708437 ,\n",
       "        0.58572103, -0.48016824, -0.87819998, -0.80400828,  0.88770385,\n",
       "       -0.85176878,  0.61947694, -0.25274117,  0.185655  , -0.1676468 ,\n",
       "       -0.98679986, -0.02933903, -0.16271742, -0.68252485,  0.81122398,\n",
       "       -0.06994184, -0.2280696 ,  0.04761339, -0.00588793, -0.08970062,\n",
       "       -0.60915961,  0.81592476,  0.31315365, -0.95642124,  0.49391463,\n",
       "        0.64339407,  0.44604373, -0.16013317,  0.94754895,  0.61024207,\n",
       "        0.39888472, -0.65301737,  0.29883785,  0.9756249 , -0.6329357 ,\n",
       "        0.23059055,  0.30866402, -0.42576846, -0.99405054,  0.57814498,\n",
       "       -0.09859521,  0.6012105 , -0.46750793, -0.11149526,  0.30392463,\n",
       "       -0.20843866,  0.92929441,  0.32437522, -0.79615244, -0.30966675,\n",
       "        0.49006223,  0.89990731, -0.57486918, -0.71419966,  0.39842836,\n",
       "        0.75793304, -0.34984809, -0.37335539, -0.78473038, -0.7491948 ,\n",
       "        0.74834275, -0.91691583,  0.84327124,  0.14234377,  0.91051697,\n",
       "       -0.49491334,  0.61093917, -0.30652204,  0.24072515, -0.97091807,\n",
       "        0.0245946 ,  0.91716154, -0.95195395, -0.76942198, -0.20555208,\n",
       "        0.65033116, -0.39855724, -0.59244223, -0.203064  , -0.08149879,\n",
       "        0.60760154,  0.79334021,  0.789517  ,  0.35847547, -0.21293479])"
      ]
     },
     "execution_count": 56,
     "metadata": {},
     "output_type": "execute_result"
    }
   ],
   "source": [
    "Z = np.random.randint(0,2,100)\n",
    "np.logical_not(Z, out=Z)\n",
    "Z = np.random.uniform(-1.0,1.0,100)\n",
    "np.negative(Z, out=Z)"
   ]
  },
  {
   "cell_type": "markdown",
   "id": "79a5b412",
   "metadata": {},
   "source": [
    "#### 78. Consider 2 sets of points P0,P1 describing lines (2d) and a point p, how to compute distance from p to each line i (P0[i],P1[i])? (★★★)"
   ]
  },
  {
   "cell_type": "code",
   "execution_count": 57,
   "id": "4e4eac2f",
   "metadata": {},
   "outputs": [
    {
     "name": "stdout",
     "output_type": "stream",
     "text": [
      "[15.07646299  5.29056434  7.78625609  2.39871376  7.75562436  6.91447325\n",
      "  5.16990771  6.86830677  5.05857024  7.4854533 ]\n"
     ]
    }
   ],
   "source": [
    "def distance(P0, P1, p):\n",
    "    T = P1 - P0\n",
    "    L = (T**2).sum(axis=1)\n",
    "    U = -((P0[:,0]-p[...,0])*T[:,0] + (P0[:,1]-p[...,1])*T[:,1]) / L\n",
    "    U = U.reshape(len(U),1)\n",
    "    D = P0 + U*T - p\n",
    "    return np.sqrt((D**2).sum(axis=1))\n",
    "\n",
    "P0 = np.random.uniform(-10,10,(10,2))\n",
    "P1 = np.random.uniform(-10,10,(10,2))\n",
    "p  = np.random.uniform(-10,10,( 1,2))\n",
    "print(distance(P0, P1, p))"
   ]
  },
  {
   "cell_type": "markdown",
   "id": "33ffa66d",
   "metadata": {},
   "source": [
    "#### 79. Consider 2 sets of points P0,P1 describing lines (2d) and a set of points P, how to compute distance from each point j (P[j]) to each line i (P0[i],P1[i])? (★★★)"
   ]
  },
  {
   "cell_type": "code",
   "execution_count": 58,
   "id": "b56c2510",
   "metadata": {},
   "outputs": [
    {
     "name": "stdout",
     "output_type": "stream",
     "text": [
      "[[1.34016006e+01 7.38753394e+00 1.11421431e+01 6.63607618e+00\n",
      "  7.76935163e+00 5.54685868e+00 1.04915935e+01 1.27525345e+01\n",
      "  7.52015397e+00 7.77062575e+00]\n",
      " [9.91278084e+00 1.12128866e+01 7.35720840e+00 4.38838564e+00\n",
      "  1.65975525e+00 8.48614047e+00 1.51796073e+01 1.03157201e+01\n",
      "  2.28943269e+00 1.28026484e+01]\n",
      " [7.41718877e+00 1.08050717e+01 4.79740445e+00 2.18083013e+00\n",
      "  1.33079330e+00 7.77457785e+00 1.50837312e+01 8.06239199e+00\n",
      "  4.97408844e+00 1.28361414e+01]\n",
      " [2.60259045e+00 1.24271232e+00 4.99146422e+00 8.66831661e+00\n",
      "  8.76950098e+00 4.39987326e+00 3.27806709e+00 2.67415876e+00\n",
      "  1.40861161e+00 1.16347857e+00]\n",
      " [1.09766343e+01 1.09921139e+01 8.46696062e+00 5.25417541e+00\n",
      "  3.10777378e+00 8.43628037e+00 1.47875600e+01 1.12122568e+01\n",
      "  6.01239971e-01 1.23408043e+01]\n",
      " [2.37333539e+00 1.79790281e+00 7.92295721e-03 3.84180143e+00\n",
      "  3.78415505e+00 9.87458882e-01 5.91288460e+00 2.18020796e+00\n",
      "  8.75076951e-01 3.62302854e+00]\n",
      " [6.65255011e+00 2.94508692e+00 4.65273196e+00 1.09462326e+00\n",
      "  3.73195549e+00 4.63828370e+00 1.06847627e-01 5.16080810e+00\n",
      "  1.29773061e+01 2.60684574e+00]\n",
      " [3.85766717e+00 7.32590604e+00 6.00288476e+00 1.08998075e+01\n",
      "  7.69406192e+00 1.00187488e+01 3.21870584e+00 4.76132676e+00\n",
      "  5.34056693e+00 5.48641612e+00]\n",
      " [2.10443479e+00 1.59428911e+00 1.10711646e-01 4.71835938e+00\n",
      "  2.63710169e+00 4.06088290e+00 2.22936254e+00 1.39403883e+00\n",
      "  5.19930652e+00 1.70834624e-01]\n",
      " [1.03354610e+01 8.60364252e+00 1.26370638e+01 1.66717548e+01\n",
      "  1.53604332e+01 1.20619128e+01 3.70801493e+00 1.06458461e+01\n",
      "  1.32598231e+00 5.64805779e+00]]\n"
     ]
    }
   ],
   "source": [
    "P0 = np.random.uniform(-10, 10, (10,2))\n",
    "P1 = np.random.uniform(-10,10,(10,2))\n",
    "p = np.random.uniform(-10, 10, (10,2))\n",
    "print(np.array([distance(P0,P1,p_i) for p_i in p]))"
   ]
  },
  {
   "cell_type": "markdown",
   "id": "a0f23dfa",
   "metadata": {},
   "source": [
    "#### 80. Consider an arbitrary array, write a function that extract a subpart with a fixed shape and centered on a given element (pad with a `fill` value when necessary) (★★★)"
   ]
  },
  {
   "cell_type": "code",
   "execution_count": null,
   "id": "4b7b96fc",
   "metadata": {},
   "outputs": [],
   "source": []
  },
  {
   "cell_type": "markdown",
   "id": "cc27e944",
   "metadata": {},
   "source": [
    "#### 81. Consider an array Z = [1,2,3,4,5,6,7,8,9,10,11,12,13,14], how to generate an array R = [[1,2,3,4], [2,3,4,5], [3,4,5,6], ..., [11,12,13,14]]? (★★★)"
   ]
  },
  {
   "cell_type": "code",
   "execution_count": 59,
   "id": "2fdaa26c",
   "metadata": {},
   "outputs": [
    {
     "name": "stdout",
     "output_type": "stream",
     "text": [
      "[[ 1  2  3  4]\n",
      " [ 2  3  4  5]\n",
      " [ 3  4  5  6]\n",
      " [ 4  5  6  7]\n",
      " [ 5  6  7  8]\n",
      " [ 6  7  8  9]\n",
      " [ 7  8  9 10]\n",
      " [ 8  9 10 11]\n",
      " [ 9 10 11 12]\n",
      " [10 11 12 13]\n",
      " [11 12 13 14]]\n"
     ]
    }
   ],
   "source": [
    "Z = np.arange(1,15,dtype=np.uint32)\n",
    "R = stride_tricks.as_strided(Z,(11,4),(4,4))\n",
    "print(R)"
   ]
  },
  {
   "cell_type": "markdown",
   "id": "9bc44d6e",
   "metadata": {},
   "source": [
    "#### 82. Compute a matrix rank (★★★)"
   ]
  },
  {
   "cell_type": "code",
   "execution_count": 60,
   "id": "3a4c7564",
   "metadata": {},
   "outputs": [
    {
     "name": "stdout",
     "output_type": "stream",
     "text": [
      "10\n"
     ]
    }
   ],
   "source": [
    "Z = np.random.uniform(0,1,(10,10))\n",
    "U, S, V = np.linalg.svd(Z)\n",
    "rank = np.sum(S > 1e-10)\n",
    "print(rank)"
   ]
  },
  {
   "cell_type": "markdown",
   "id": "718a82dd",
   "metadata": {},
   "source": [
    "#### 83. How to find the most frequent value in an array?"
   ]
  },
  {
   "cell_type": "code",
   "execution_count": 61,
   "id": "8ffc513c",
   "metadata": {},
   "outputs": [
    {
     "name": "stdout",
     "output_type": "stream",
     "text": [
      "9\n"
     ]
    }
   ],
   "source": [
    "Z = np.random.randint(0,10,50)\n",
    "print(np.bincount(Z).argmax())"
   ]
  },
  {
   "cell_type": "markdown",
   "id": "754ceeba",
   "metadata": {},
   "source": [
    "#### 84. Extract all the contiguous 3x3 blocks from a random 10x10 matrix (★★★)"
   ]
  },
  {
   "cell_type": "code",
   "execution_count": 62,
   "id": "c32bb120",
   "metadata": {},
   "outputs": [
    {
     "name": "stdout",
     "output_type": "stream",
     "text": [
      "[[[[3 3 3]\n",
      "   [1 2 2]\n",
      "   [0 3 3]]\n",
      "\n",
      "  [[3 3 3]\n",
      "   [2 2 4]\n",
      "   [3 3 1]]\n",
      "\n",
      "  [[3 3 2]\n",
      "   [2 4 1]\n",
      "   [3 1 0]]\n",
      "\n",
      "  [[3 2 2]\n",
      "   [4 1 4]\n",
      "   [1 0 0]]\n",
      "\n",
      "  [[2 2 1]\n",
      "   [1 4 4]\n",
      "   [0 0 1]]\n",
      "\n",
      "  [[2 1 3]\n",
      "   [4 4 1]\n",
      "   [0 1 3]]\n",
      "\n",
      "  [[1 3 2]\n",
      "   [4 1 2]\n",
      "   [1 3 2]]\n",
      "\n",
      "  [[3 2 2]\n",
      "   [1 2 3]\n",
      "   [3 2 0]]]\n",
      "\n",
      "\n",
      " [[[1 2 2]\n",
      "   [0 3 3]\n",
      "   [3 3 3]]\n",
      "\n",
      "  [[2 2 4]\n",
      "   [3 3 1]\n",
      "   [3 3 2]]\n",
      "\n",
      "  [[2 4 1]\n",
      "   [3 1 0]\n",
      "   [3 2 4]]\n",
      "\n",
      "  [[4 1 4]\n",
      "   [1 0 0]\n",
      "   [2 4 4]]\n",
      "\n",
      "  [[1 4 4]\n",
      "   [0 0 1]\n",
      "   [4 4 0]]\n",
      "\n",
      "  [[4 4 1]\n",
      "   [0 1 3]\n",
      "   [4 0 2]]\n",
      "\n",
      "  [[4 1 2]\n",
      "   [1 3 2]\n",
      "   [0 2 2]]\n",
      "\n",
      "  [[1 2 3]\n",
      "   [3 2 0]\n",
      "   [2 2 1]]]\n",
      "\n",
      "\n",
      " [[[0 3 3]\n",
      "   [3 3 3]\n",
      "   [4 1 3]]\n",
      "\n",
      "  [[3 3 1]\n",
      "   [3 3 2]\n",
      "   [1 3 0]]\n",
      "\n",
      "  [[3 1 0]\n",
      "   [3 2 4]\n",
      "   [3 0 2]]\n",
      "\n",
      "  [[1 0 0]\n",
      "   [2 4 4]\n",
      "   [0 2 3]]\n",
      "\n",
      "  [[0 0 1]\n",
      "   [4 4 0]\n",
      "   [2 3 2]]\n",
      "\n",
      "  [[0 1 3]\n",
      "   [4 0 2]\n",
      "   [3 2 0]]\n",
      "\n",
      "  [[1 3 2]\n",
      "   [0 2 2]\n",
      "   [2 0 2]]\n",
      "\n",
      "  [[3 2 0]\n",
      "   [2 2 1]\n",
      "   [0 2 1]]]\n",
      "\n",
      "\n",
      " [[[3 3 3]\n",
      "   [4 1 3]\n",
      "   [0 0 2]]\n",
      "\n",
      "  [[3 3 2]\n",
      "   [1 3 0]\n",
      "   [0 2 4]]\n",
      "\n",
      "  [[3 2 4]\n",
      "   [3 0 2]\n",
      "   [2 4 2]]\n",
      "\n",
      "  [[2 4 4]\n",
      "   [0 2 3]\n",
      "   [4 2 1]]\n",
      "\n",
      "  [[4 4 0]\n",
      "   [2 3 2]\n",
      "   [2 1 0]]\n",
      "\n",
      "  [[4 0 2]\n",
      "   [3 2 0]\n",
      "   [1 0 2]]\n",
      "\n",
      "  [[0 2 2]\n",
      "   [2 0 2]\n",
      "   [0 2 1]]\n",
      "\n",
      "  [[2 2 1]\n",
      "   [0 2 1]\n",
      "   [2 1 3]]]\n",
      "\n",
      "\n",
      " [[[4 1 3]\n",
      "   [0 0 2]\n",
      "   [2 4 1]]\n",
      "\n",
      "  [[1 3 0]\n",
      "   [0 2 4]\n",
      "   [4 1 2]]\n",
      "\n",
      "  [[3 0 2]\n",
      "   [2 4 2]\n",
      "   [1 2 1]]\n",
      "\n",
      "  [[0 2 3]\n",
      "   [4 2 1]\n",
      "   [2 1 0]]\n",
      "\n",
      "  [[2 3 2]\n",
      "   [2 1 0]\n",
      "   [1 0 3]]\n",
      "\n",
      "  [[3 2 0]\n",
      "   [1 0 2]\n",
      "   [0 3 4]]\n",
      "\n",
      "  [[2 0 2]\n",
      "   [0 2 1]\n",
      "   [3 4 3]]\n",
      "\n",
      "  [[0 2 1]\n",
      "   [2 1 3]\n",
      "   [4 3 2]]]\n",
      "\n",
      "\n",
      " [[[0 0 2]\n",
      "   [2 4 1]\n",
      "   [3 0 1]]\n",
      "\n",
      "  [[0 2 4]\n",
      "   [4 1 2]\n",
      "   [0 1 1]]\n",
      "\n",
      "  [[2 4 2]\n",
      "   [1 2 1]\n",
      "   [1 1 3]]\n",
      "\n",
      "  [[4 2 1]\n",
      "   [2 1 0]\n",
      "   [1 3 2]]\n",
      "\n",
      "  [[2 1 0]\n",
      "   [1 0 3]\n",
      "   [3 2 0]]\n",
      "\n",
      "  [[1 0 2]\n",
      "   [0 3 4]\n",
      "   [2 0 3]]\n",
      "\n",
      "  [[0 2 1]\n",
      "   [3 4 3]\n",
      "   [0 3 2]]\n",
      "\n",
      "  [[2 1 3]\n",
      "   [4 3 2]\n",
      "   [3 2 2]]]\n",
      "\n",
      "\n",
      " [[[2 4 1]\n",
      "   [3 0 1]\n",
      "   [4 2 4]]\n",
      "\n",
      "  [[4 1 2]\n",
      "   [0 1 1]\n",
      "   [2 4 2]]\n",
      "\n",
      "  [[1 2 1]\n",
      "   [1 1 3]\n",
      "   [4 2 3]]\n",
      "\n",
      "  [[2 1 0]\n",
      "   [1 3 2]\n",
      "   [2 3 1]]\n",
      "\n",
      "  [[1 0 3]\n",
      "   [3 2 0]\n",
      "   [3 1 2]]\n",
      "\n",
      "  [[0 3 4]\n",
      "   [2 0 3]\n",
      "   [1 2 4]]\n",
      "\n",
      "  [[3 4 3]\n",
      "   [0 3 2]\n",
      "   [2 4 2]]\n",
      "\n",
      "  [[4 3 2]\n",
      "   [3 2 2]\n",
      "   [4 2 0]]]\n",
      "\n",
      "\n",
      " [[[3 0 1]\n",
      "   [4 2 4]\n",
      "   [3 0 0]]\n",
      "\n",
      "  [[0 1 1]\n",
      "   [2 4 2]\n",
      "   [0 0 4]]\n",
      "\n",
      "  [[1 1 3]\n",
      "   [4 2 3]\n",
      "   [0 4 3]]\n",
      "\n",
      "  [[1 3 2]\n",
      "   [2 3 1]\n",
      "   [4 3 4]]\n",
      "\n",
      "  [[3 2 0]\n",
      "   [3 1 2]\n",
      "   [3 4 1]]\n",
      "\n",
      "  [[2 0 3]\n",
      "   [1 2 4]\n",
      "   [4 1 3]]\n",
      "\n",
      "  [[0 3 2]\n",
      "   [2 4 2]\n",
      "   [1 3 3]]\n",
      "\n",
      "  [[3 2 2]\n",
      "   [4 2 0]\n",
      "   [3 3 0]]]]\n"
     ]
    }
   ],
   "source": [
    "Z = np.random.randint(0,5,(10,10))\n",
    "n = 3\n",
    "i = 1 + (Z.shape[0]-3)\n",
    "j = 1 + (Z.shape[1]-3)\n",
    "C = stride_tricks.as_strided(Z, shape=(i, j, n, n), strides=Z.strides + Z.strides)\n",
    "print(C)"
   ]
  },
  {
   "cell_type": "markdown",
   "id": "9fc0b63a",
   "metadata": {},
   "source": [
    "#### 85. Create a 2D array subclass such that Z[i,j] == Z[j,i] (★★★)"
   ]
  },
  {
   "cell_type": "code",
   "execution_count": 63,
   "id": "c41d0f9b",
   "metadata": {},
   "outputs": [
    {
     "name": "stdout",
     "output_type": "stream",
     "text": [
      "[[ 5 10  9 13  3]\n",
      " [10  4  7  5  9]\n",
      " [ 9  7  5 42  9]\n",
      " [13  5 42  7  2]\n",
      " [ 3  9  9  2  0]]\n"
     ]
    }
   ],
   "source": [
    "class Symetric(np.ndarray):\n",
    "    def __setitem__(self, index, value):\n",
    "        i,j = index\n",
    "        super(Symetric, self).__setitem__((i,j), value)\n",
    "        super(Symetric, self).__setitem__((j,i), value)\n",
    "def symetric(Z):\n",
    "    return np.asarray(Z + Z.T - np.diag(Z.diagonal())).view(Symetric)\n",
    "S = symetric(np.random.randint(0,10,(5,5)))\n",
    "S[2,3] = 42\n",
    "print(S)"
   ]
  },
  {
   "cell_type": "markdown",
   "id": "ae909782",
   "metadata": {},
   "source": [
    "#### 86. Consider a set of p matrices wich shape (n,n) and a set of p vectors with shape (n,1). How to compute the sum of of the p matrix products at once? (result has shape (n,1)) (★★★)"
   ]
  },
  {
   "cell_type": "code",
   "execution_count": 64,
   "id": "013944b1",
   "metadata": {},
   "outputs": [
    {
     "name": "stdout",
     "output_type": "stream",
     "text": [
      "[[200.]\n",
      " [200.]\n",
      " [200.]\n",
      " [200.]\n",
      " [200.]\n",
      " [200.]\n",
      " [200.]\n",
      " [200.]\n",
      " [200.]\n",
      " [200.]\n",
      " [200.]\n",
      " [200.]\n",
      " [200.]\n",
      " [200.]\n",
      " [200.]\n",
      " [200.]\n",
      " [200.]\n",
      " [200.]\n",
      " [200.]\n",
      " [200.]]\n"
     ]
    }
   ],
   "source": [
    "p, n = 10, 20\n",
    "M = np.ones((p,n,n))\n",
    "V = np.ones((p,n,1))\n",
    "S = np.tensordot(M, V, axes=[[0, 2], [0, 1]])\n",
    "print(S)"
   ]
  },
  {
   "cell_type": "markdown",
   "id": "5f134bf4",
   "metadata": {},
   "source": [
    "#### 87. Consider a 16x16 array, how to get the block-sum (block size is 4x4)? (★★★)"
   ]
  },
  {
   "cell_type": "code",
   "execution_count": 65,
   "id": "bf480005",
   "metadata": {},
   "outputs": [
    {
     "name": "stdout",
     "output_type": "stream",
     "text": [
      "[[16. 16. 16. 16.]\n",
      " [16. 16. 16. 16.]\n",
      " [16. 16. 16. 16.]\n",
      " [16. 16. 16. 16.]]\n"
     ]
    }
   ],
   "source": [
    "Z = np.ones((16,16))\n",
    "k = 4\n",
    "S = np.add.reduceat(np.add.reduceat(Z, np.arange(0, Z.shape[0], k), axis=0),\n",
    "                                       np.arange(0, Z.shape[1], k), axis=1)\n",
    "print(S)"
   ]
  },
  {
   "cell_type": "markdown",
   "id": "aa91a3be",
   "metadata": {},
   "source": [
    "#### 88. How to implement the Game of Life using numpy arrays? (★★★)"
   ]
  },
  {
   "cell_type": "code",
   "execution_count": 66,
   "id": "a20f0e2b",
   "metadata": {},
   "outputs": [
    {
     "ename": "SyntaxError",
     "evalue": "invalid syntax (1863909266.py, line 5)",
     "output_type": "error",
     "traceback": [
      "\u001b[1;36m  Input \u001b[1;32mIn [66]\u001b[1;36m\u001b[0m\n\u001b[1;33m    birth = (N==3) & (Z[1:-1,1:-1]==0)\u001b[0m\n\u001b[1;37m    ^\u001b[0m\n\u001b[1;31mSyntaxError\u001b[0m\u001b[1;31m:\u001b[0m invalid syntax\n"
     ]
    }
   ],
   "source": [
    "def iterate(Z):\n",
    "    N = (Z[0:-2,0:-2] + Z[0:-2,1:-1] + Z[0:-2,2:] +\n",
    "         Z[1:-1,0:-2]                + Z[1:-1,2:] +\n",
    "         Z[2:  ,0:-2] + Z[2:  ,1:-1] + Z[2:  ,2:]\n",
    "    birth = (N==3) & (Z[1:-1,1:-1]==0)\n",
    "    survive = ((N==2) | (N==3)) & (Z[1:-1,1:-1]==1)\n",
    "    Z[...] = 0\n",
    "    Z[1:-1,1:-1][birth | survive] = 1\n",
    "    return Z\n",
    "Z = np.random.randint(0,2,(50,50))\n",
    "for i in range(100): Z = iterate(Z)\n",
    "print(Z)"
   ]
  },
  {
   "cell_type": "markdown",
   "id": "885023d9",
   "metadata": {},
   "source": [
    "#### 89. How to get the n largest values of an array (★★★)"
   ]
  },
  {
   "cell_type": "code",
   "execution_count": 67,
   "id": "996ab585",
   "metadata": {},
   "outputs": [
    {
     "name": "stdout",
     "output_type": "stream",
     "text": [
      "[14998 14995 14996 14997 14999]\n"
     ]
    }
   ],
   "source": [
    "A = np.arange(15000)\n",
    "np.random.shuffle(A)\n",
    "n=5\n",
    "print (A[np.argpartition(-A,n)[:n]])"
   ]
  },
  {
   "cell_type": "markdown",
   "id": "d0518aeb",
   "metadata": {},
   "source": [
    "#### 90. Given an arbitrary number of vectors, build the cartesian product (every combinations of every item) (★★★)"
   ]
  },
  {
   "cell_type": "code",
   "execution_count": 86,
   "id": "d9ae30ca",
   "metadata": {},
   "outputs": [
    {
     "name": "stdout",
     "output_type": "stream",
     "text": [
      "[[1 4 6]\n",
      " [1 4 7]\n",
      " [1 5 6]\n",
      " [1 5 7]\n",
      " [2 4 6]\n",
      " [2 4 7]\n",
      " [2 5 6]\n",
      " [2 5 7]\n",
      " [3 4 6]\n",
      " [3 4 7]\n",
      " [3 5 6]\n",
      " [3 5 7]]\n"
     ]
    }
   ],
   "source": [
    "def cartesian(arrays):\n",
    "    arrays = [np.asarray(a) for a in arrays]\n",
    "    shape = (len(x) for x in arrays)\n",
    "    z = np.indices(shape, dtype=int)\n",
    "    z = z.reshape(len(arrays), -1).T\n",
    "    for n, arr in enumerate(arrays):\n",
    "        z[:, n] = arrays[n][z[:, n]]\n",
    "    return z\n",
    "print (cartesian(([1, 2, 3], [4, 5], [6, 7])))"
   ]
  },
  {
   "cell_type": "markdown",
   "id": "20cc5dc6",
   "metadata": {},
   "source": [
    "#### 91. How to create a record array from a regular array? (★★★)"
   ]
  },
  {
   "cell_type": "code",
   "execution_count": 84,
   "id": "a7d05a34",
   "metadata": {},
   "outputs": [
    {
     "name": "stdout",
     "output_type": "stream",
     "text": [
      "[(b'X', 2.5, 3) (b'Z', 3.6, 2)]\n"
     ]
    }
   ],
   "source": [
    "Y = np.array([(\"Hello\", 2.5, 3),(\"World\", 3.6, 2)])\n",
    "X = np.core.records.fromarrays(X.T,names='col1, col2, col3',formats = 'S8, f8, i8')\n",
    "print(X)"
   ]
  },
  {
   "cell_type": "markdown",
   "id": "e59a2c44",
   "metadata": {},
   "source": [
    "#### 92. Consider a large vector Z, compute Z to the power of 3 using 3 different methods (★★★)"
   ]
  },
  {
   "cell_type": "code",
   "execution_count": 80,
   "id": "916168ea",
   "metadata": {},
   "outputs": [
    {
     "name": "stdout",
     "output_type": "stream",
     "text": [
      "[0.21593592 0.45904058 0.15256258 0.20090297 0.48565956 0.10216072\n",
      " 0.86850085 0.30940771 0.54633775 0.44820112]\n",
      "[0.01006873 0.09672823 0.00355095 0.00810885 0.11455019]\n",
      "[0.01006873 0.09672823 0.00355095 0.00810885 0.11455019]\n",
      "[0.01006873 0.09672823 0.00355095 0.00810885 0.11455019]\n"
     ]
    }
   ],
   "source": [
    "x = np.random.random(10)\n",
    "print(x)\n",
    "print((x*x*x)[:5])\n",
    "print(np.power(x,3)[:5])\n",
    "print(np.einsum('i,i,i->i', x, x, x)[:5]) "
   ]
  },
  {
   "cell_type": "markdown",
   "id": "f1fc4b70",
   "metadata": {},
   "source": [
    "#### 93. Consider two arrays A and B of shape (8,3) and (2,2). How to find rows of A that contain elements of each row of B regardless of the order of the elements in B? (★★★)"
   ]
  },
  {
   "cell_type": "code",
   "execution_count": 71,
   "id": "d35b4705",
   "metadata": {},
   "outputs": [
    {
     "name": "stdout",
     "output_type": "stream",
     "text": [
      "[1 2 3 4 6]\n"
     ]
    }
   ],
   "source": [
    "A = np.random.randint(0,5,(8,3))\n",
    "B = np.random.randint(0,5,(2,2))\n",
    "C = (A[..., np.newaxis, np.newaxis] == B)\n",
    "Z = np.where(C.any((3,1)).all(1))[0]\n",
    "print(Z)"
   ]
  },
  {
   "cell_type": "markdown",
   "id": "821a6ce8",
   "metadata": {},
   "source": [
    "#### 94. Considering a 10x3 matrix, extract rows with unequal values (e.g. [2,2,3]) (★★★)"
   ]
  },
  {
   "cell_type": "code",
   "execution_count": 72,
   "id": "5690c131",
   "metadata": {},
   "outputs": [
    {
     "name": "stdout",
     "output_type": "stream",
     "text": [
      "[[4 4 3]\n",
      " [2 1 2]\n",
      " [4 2 3]\n",
      " [4 0 1]\n",
      " [4 1 1]\n",
      " [1 2 3]\n",
      " [0 2 4]\n",
      " [3 3 0]\n",
      " [0 2 1]\n",
      " [2 2 1]]\n",
      "[[-0.20763431  0.12962118 -0.18938657 -0.29925119 -0.12938875 -0.03805811\n",
      "  -0.28359499 -0.47776383 -0.4301188  -0.55026481]\n",
      " [-0.33088794 -0.20996502 -0.04613105 -0.58788346 -0.35449689  0.40046709\n",
      "   0.08667145 -0.1189561   0.14418475  0.412552  ]\n",
      " [-0.21718279 -0.46131605  0.362017    0.29468599  0.30691607  0.3211181\n",
      "  -0.27037833 -0.11367684 -0.45208622  0.18547205]\n",
      " [-0.41774477  0.16766621 -0.04671235  0.04866347  0.16759974 -0.3402005\n",
      "  -0.64100739 -0.08438265  0.40609164  0.25705989]\n",
      " [-0.28623202  0.35020263 -0.41333637  0.06091269  0.41036685 -0.0578198\n",
      "   0.41613335 -0.15237562 -0.3277819   0.38118459]\n",
      " [-0.25533778  0.29160102  0.31294575  0.19729479  0.1898881   0.44162563\n",
      "   0.25430389 -0.3388654   0.45099198 -0.31452585]\n",
      " [-0.36590349 -0.32244076  0.36702965 -0.30372563  0.21560318 -0.54561776\n",
      "   0.3782005   0.08113235  0.03043694 -0.20114329]\n",
      " [-0.32222011  0.53395438  0.39329365 -0.00138469 -0.29238404  0.06620464\n",
      "  -0.05570687  0.51167567 -0.31857543  0.01039592]\n",
      " [-0.29634409 -0.20670567 -0.46876052 -0.03965979  0.27047446  0.30725587\n",
      "  -0.0800477   0.56864709  0.10549157 -0.37374509]\n",
      " [-0.39123519 -0.24230765 -0.22551544  0.58238659 -0.57071475 -0.15639752\n",
      "   0.19412133 -0.08801284  0.02315772 -0.04527171]]\n",
      "[[4 4 3]\n",
      " [2 1 2]\n",
      " [4 2 3]\n",
      " [4 0 1]\n",
      " [4 1 1]\n",
      " [1 2 3]\n",
      " [0 2 4]\n",
      " [3 3 0]\n",
      " [0 2 1]\n",
      " [2 2 1]]\n"
     ]
    }
   ],
   "source": [
    "A = np.random.randint(0,5,(10,3))\n",
    "print(A)\n",
    "E = np.all(A[:,1:] == A[:,:-1], axis=1)\n",
    "Z = A[~E]\n",
    "print(U)\n",
    "Z = A[A.max(axis=1) != A.min(axis=1),:]\n",
    "print(Z)"
   ]
  },
  {
   "cell_type": "markdown",
   "id": "9dc9a61c",
   "metadata": {},
   "source": [
    "#### 95. Convert a vector of ints into a matrix binary representation (★★★)"
   ]
  },
  {
   "cell_type": "code",
   "execution_count": 73,
   "id": "c728306f",
   "metadata": {},
   "outputs": [
    {
     "name": "stdout",
     "output_type": "stream",
     "text": [
      "[[0 0 0 0 0 0 0 0]\n",
      " [0 0 0 0 0 0 0 1]\n",
      " [0 0 0 0 0 0 1 0]\n",
      " [0 0 0 0 0 0 1 1]\n",
      " [0 0 0 0 1 1 1 1]\n",
      " [0 0 0 1 0 0 0 0]\n",
      " [0 0 1 0 0 0 0 0]\n",
      " [0 1 0 0 0 0 0 0]\n",
      " [1 0 0 0 0 0 0 0]]\n"
     ]
    }
   ],
   "source": [
    "A = np.array([0, 1, 2, 3, 15, 16, 32, 64, 128], dtype=np.uint8)\n",
    "print(np.unpackbits(A[:, np.newaxis], axis=1))"
   ]
  },
  {
   "cell_type": "markdown",
   "id": "cca48e6e",
   "metadata": {},
   "source": [
    "#### 96. Given a two dimensional array, how to extract unique rows? (★★★)"
   ]
  },
  {
   "cell_type": "code",
   "execution_count": 74,
   "id": "ae2e6484",
   "metadata": {},
   "outputs": [
    {
     "name": "stdout",
     "output_type": "stream",
     "text": [
      "[[0 0 1]\n",
      " [0 1 0]\n",
      " [0 1 1]\n",
      " [1 0 0]\n",
      " [1 0 1]]\n"
     ]
    }
   ],
   "source": [
    "A = np.random.randint(0,2,(6,3))\n",
    "B = np.ascontiguousarray(A).view(np.dtype((np.void, A.dtype.itemsize * A.shape[1])))\n",
    "_, idx = np.unique(B, return_index=True)\n",
    "uA = A[idx]\n",
    "print(uA)"
   ]
  },
  {
   "cell_type": "markdown",
   "id": "3621d474",
   "metadata": {},
   "source": [
    "#### 97. Considering 2 vectors A & B, write the einsum equivalent of inner, outer, sum, and mul function (★★★)"
   ]
  },
  {
   "cell_type": "code",
   "execution_count": 75,
   "id": "09238dfb",
   "metadata": {},
   "outputs": [
    {
     "data": {
      "text/plain": [
       "3.208863086177824"
      ]
     },
     "execution_count": 75,
     "metadata": {},
     "output_type": "execute_result"
    }
   ],
   "source": [
    "A = np.random.uniform(0,1,10)\n",
    "B = np.random.uniform(0,1,10)\n",
    "np.einsum('i,j->ij', A, B) \n",
    "np.einsum('i,i->i', A, B) \n",
    "np.einsum('i->', A)      \n",
    "np.einsum('i,i', A, B)   "
   ]
  },
  {
   "cell_type": "markdown",
   "id": "26162fae",
   "metadata": {},
   "source": [
    "#### 98. Considering a path described by two vectors (X,Y), how to sample it using equidistant samples (★★★)?"
   ]
  },
  {
   "cell_type": "code",
   "execution_count": 76,
   "id": "283c279f",
   "metadata": {},
   "outputs": [],
   "source": [
    "phi = np.arange(0, 10*np.pi, 0.1)\n",
    "a = 1\n",
    "x = a*phi*np.cos(phi)\n",
    "y = a*phi*np.sin(phi)\n",
    "dr = (np.diff(x)**2 + np.diff(y)**2)**.5\n",
    "r = np.zeros_like(x)\n",
    "r[1:] = np.cumsum(dr)               \n",
    "r_i = np.linspace(0, r.max(), 200) \n",
    "x_i = np.interp(r_i, r, x)       \n",
    "y_i = np.interp(r_i, r, y)"
   ]
  },
  {
   "cell_type": "markdown",
   "id": "44b20c57",
   "metadata": {},
   "source": [
    "#### 99. Given an integer n and a 2D array X, select from X the rows which can be interpreted as draws from a multinomial distribution with n degrees, i.e., the rows which only contain integers and which sum to n. (★★★)"
   ]
  },
  {
   "cell_type": "code",
   "execution_count": 77,
   "id": "389b7190",
   "metadata": {},
   "outputs": [
    {
     "name": "stdout",
     "output_type": "stream",
     "text": [
      "[[2. 0. 1. 1.]]\n"
     ]
    }
   ],
   "source": [
    "X = np.asarray([[1.0, 0.0, 3.0, 8.0],\n",
    "                [2.0, 0.0, 1.0, 1.0],\n",
    "                [1.5, 2.5, 1.0, 0.0]])\n",
    "n = 4\n",
    "A = np.logical_and.reduce(np.mod(X, 1) == 0, axis=-1)\n",
    "A &= (X.sum(axis=-1) == n)\n",
    "print(X[A])"
   ]
  },
  {
   "cell_type": "markdown",
   "id": "6fa5ed76",
   "metadata": {},
   "source": [
    "#### 100. Compute bootstrapped 95% confidence intervals for the mean of a 1D array X (i.e., resample the elements of an array with replacement N times, compute the mean of each sample, and then compute percentiles over the means). (★★★)"
   ]
  },
  {
   "cell_type": "code",
   "execution_count": 79,
   "id": "4db4cc57",
   "metadata": {},
   "outputs": [
    {
     "name": "stdout",
     "output_type": "stream",
     "text": [
      "[-0.28023092  0.13231765]\n"
     ]
    }
   ],
   "source": [
    "A = np.random.randn(100)\n",
    "N = 1000\n",
    "idx = np.random.randint(0, A.size, (N, A.size))\n",
    "means = A[idx].mean(axis=1)\n",
    "confint = np.percentile(means, [2.5, 97.5])\n",
    "print(confint)"
   ]
  }
 ],
 "metadata": {
  "kernelspec": {
   "display_name": "Python 3 (ipykernel)",
   "language": "python",
   "name": "python3"
  },
  "language_info": {
   "codemirror_mode": {
    "name": "ipython",
    "version": 3
   },
   "file_extension": ".py",
   "mimetype": "text/x-python",
   "name": "python",
   "nbconvert_exporter": "python",
   "pygments_lexer": "ipython3",
   "version": "3.9.12"
  }
 },
 "nbformat": 4,
 "nbformat_minor": 5
}
